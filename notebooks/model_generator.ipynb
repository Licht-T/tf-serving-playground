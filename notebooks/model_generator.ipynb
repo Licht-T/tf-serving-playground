{
 "cells": [
  {
   "cell_type": "code",
   "execution_count": 1,
   "metadata": {},
   "outputs": [],
   "source": [
    "import os\n",
    "\n",
    "import tensorflow as tf\n",
    "from tensorflow.python.compiler.tensorrt import trt_convert as trt"
   ]
  },
  {
   "cell_type": "code",
   "execution_count": 2,
   "metadata": {},
   "outputs": [
    {
     "name": "stdout",
     "output_type": "stream",
     "text": [
      "PhysicalDevice(name='/physical_device:GPU:0', device_type='GPU') memory growth: True\n"
     ]
    }
   ],
   "source": [
    "physical_devices = tf.config.list_physical_devices('GPU')\n",
    "if len(physical_devices) > 0:\n",
    "    for device in physical_devices:\n",
    "        tf.config.experimental.set_memory_growth(device, True)\n",
    "        print('{} memory growth: {}'.format(device, tf.config.experimental.get_memory_growth(device)))\n",
    "else:\n",
    "    print(\"Not enough GPU hardware devices available\")"
   ]
  },
  {
   "cell_type": "code",
   "execution_count": 3,
   "metadata": {},
   "outputs": [],
   "source": [
    "MODEL_BASE_PATH = '../models/'"
   ]
  },
  {
   "cell_type": "code",
   "execution_count": 4,
   "metadata": {},
   "outputs": [],
   "source": [
    "class MobileNetV2Model(tf.keras.Model):\n",
    "    def __init__(self, name: str):\n",
    "        shape = (224, 224, 3)\n",
    "        base_model = tf.keras.applications.MobileNetV2(input_shape=shape, include_top=True, weights='imagenet')\n",
    "        inputs = tf.keras.Input(shape)\n",
    "        outputs = base_model(inputs)\n",
    "        \n",
    "        super().__init__(inputs=inputs, outputs=outputs, name=name)\n",
    "\n",
    "    @tf.function(\n",
    "        input_signature=[tf.TensorSpec(shape=[None, 224, 224, 3], dtype=tf.float32, name=\"imgs\")]\n",
    "    )\n",
    "    def serving_fn(self, imgs) -> tf.Tensor:\n",
    "        return self(imgs)\n",
    "\n",
    "    def save(self):\n",
    "        tf_saved_model_path = os.path.join(MODEL_BASE_PATH, self.name, '0')\n",
    "        \n",
    "        signatures = {\"serving_default\": self.serving_fn}\n",
    "        tf.saved_model.save(self, tf_saved_model_path, signatures=signatures)\n",
    "        \n",
    "        params = trt.DEFAULT_TRT_CONVERSION_PARAMS._replace(\n",
    "            precision_mode=trt.TrtPrecisionMode.FP16,\n",
    "            max_batch_size=10\n",
    "        )\n",
    "        converter = trt.TrtGraphConverterV2(input_saved_model_dir=tf_saved_model_path, conversion_params=params)\n",
    "        converter.convert()\n",
    "        converter.save(os.path.join(MODEL_BASE_PATH, '{}_trt'.format(model.name), '0'))"
   ]
  },
  {
   "cell_type": "code",
   "execution_count": 5,
   "metadata": {},
   "outputs": [
    {
     "name": "stdout",
     "output_type": "stream",
     "text": [
      "Downloading data from https://storage.googleapis.com/tensorflow/keras-applications/mobilenet_v2/mobilenet_v2_weights_tf_dim_ordering_tf_kernels_1.0_224.h5\n",
      "14540800/14536120 [==============================] - 1s 0us/step\n"
     ]
    }
   ],
   "source": [
    "model = MobileNetV2Model('test1')"
   ]
  },
  {
   "cell_type": "code",
   "execution_count": 6,
   "metadata": {},
   "outputs": [
    {
     "name": "stdout",
     "output_type": "stream",
     "text": [
      "INFO:tensorflow:Assets written to: ../models/test1/0/assets\n",
      "INFO:tensorflow:Linked TensorRT version: (7, 1, 3)\n",
      "INFO:tensorflow:Loaded TensorRT version: (7, 1, 3)\n",
      "INFO:tensorflow:Could not find TRTEngineOp_0_0 in TF-TRT cache. This can happen if build() is not called, which means TensorRT engines will be built and cached at runtime.\n",
      "INFO:tensorflow:Assets written to: ../models/test1_trt/0/assets\n"
     ]
    }
   ],
   "source": [
    "model.save()"
   ]
  },
  {
   "cell_type": "code",
   "execution_count": null,
   "metadata": {},
   "outputs": [],
   "source": []
  }
 ],
 "metadata": {
  "kernelspec": {
   "display_name": "Python 3",
   "language": "python",
   "name": "python3"
  },
  "language_info": {
   "codemirror_mode": {
    "name": "ipython",
    "version": 3
   },
   "file_extension": ".py",
   "mimetype": "text/x-python",
   "name": "python",
   "nbconvert_exporter": "python",
   "pygments_lexer": "ipython3",
   "version": "3.6.9"
  }
 },
 "nbformat": 4,
 "nbformat_minor": 4
}
