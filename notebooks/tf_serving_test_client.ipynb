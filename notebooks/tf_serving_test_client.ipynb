{
 "cells": [
  {
   "cell_type": "code",
   "execution_count": 2,
   "metadata": {},
   "outputs": [],
   "source": [
    "import grpc\n",
    "import tensorflow as tf\n",
    "\n",
    "from tensorflow_serving.apis import predict_pb2\n",
    "from tensorflow_serving.apis import prediction_service_pb2_grpc"
   ]
  },
  {
   "cell_type": "code",
   "execution_count": 3,
   "metadata": {},
   "outputs": [
    {
     "name": "stdout",
     "output_type": "stream",
     "text": [
      "/tf_servingd/tf_servingd.sock\r\n"
     ]
    }
   ],
   "source": [
    "!ls /tf_servingd/tf_servingd.sock"
   ]
  },
  {
   "cell_type": "code",
   "execution_count": 4,
   "metadata": {},
   "outputs": [],
   "source": [
    "channel = grpc.insecure_channel('unix:///tf_servingd/tf_servingd.sock')\n",
    "stub = prediction_service_pb2_grpc.PredictionServiceStub(channel)"
   ]
  },
  {
   "cell_type": "code",
   "execution_count": 8,
   "metadata": {},
   "outputs": [],
   "source": [
    "x = tf.random.uniform((10, 224, 224, 3))"
   ]
  },
  {
   "cell_type": "code",
   "execution_count": 15,
   "metadata": {},
   "outputs": [],
   "source": [
    "request = predict_pb2.PredictRequest()\n",
    "request.model_spec.name = 'mobilenetv2_test1'\n",
    "request.model_spec.signature_name = 'serving_default'\n",
    "request.inputs[\"imgs\"].CopyFrom(tf.make_tensor_proto(x))\n",
    "response = stub.Predict(request, 100)"
   ]
  },
  {
   "cell_type": "code",
   "execution_count": 16,
   "metadata": {},
   "outputs": [
    {
     "data": {
      "text/plain": [
       "array([[7.56978989e-06, 1.21593475e-05, 9.08374786e-05, ...,\n",
       "        4.82797623e-06, 2.98023224e-06, 1.23620033e-04],\n",
       "       [1.25765800e-05, 1.66893005e-05, 1.28030777e-04, ...,\n",
       "        1.15633011e-05, 3.21865082e-06, 1.40070915e-04],\n",
       "       [8.76188278e-06, 2.37822533e-05, 1.27673149e-04, ...,\n",
       "        6.25848770e-06, 3.99351120e-06, 2.81095505e-04],\n",
       "       ...,\n",
       "       [1.16825104e-05, 1.45435333e-05, 9.62615013e-05, ...,\n",
       "        6.31809235e-06, 3.93390656e-06, 1.78098679e-04],\n",
       "       [1.41859055e-05, 1.57952309e-05, 9.43541527e-05, ...,\n",
       "        7.39097595e-06, 2.50339508e-06, 1.60455704e-04],\n",
       "       [1.15036964e-05, 1.78217888e-05, 9.50694084e-05, ...,\n",
       "        7.68899918e-06, 4.58955765e-06, 1.85132027e-04]], dtype=float32)"
      ]
     },
     "execution_count": 16,
     "metadata": {},
     "output_type": "execute_result"
    }
   ],
   "source": [
    "tf.make_ndarray(response.outputs['output_0'])"
   ]
  },
  {
   "cell_type": "code",
   "execution_count": 10,
   "metadata": {},
   "outputs": [
    {
     "name": "stdout",
     "output_type": "stream",
     "text": [
      "22.4 ms ± 875 µs per loop (mean ± std. dev. of 7 runs, 10 loops each)\n"
     ]
    }
   ],
   "source": [
    "%%timeit\n",
    "request = predict_pb2.PredictRequest()\n",
    "request.model_spec.name = 'mobilenetv2_test1'\n",
    "request.model_spec.signature_name = 'serving_default'\n",
    "request.inputs[\"imgs\"].CopyFrom(tf.make_tensor_proto(x))\n",
    "response = stub.Predict(request, 100)\n",
    "\n",
    "pred = tf.make_ndarray(response.outputs['output_0'])"
   ]
  },
  {
   "cell_type": "code",
   "execution_count": null,
   "metadata": {},
   "outputs": [],
   "source": []
  },
  {
   "cell_type": "code",
   "execution_count": 5,
   "metadata": {},
   "outputs": [],
   "source": [
    "img = tf.image.decode_image(tf.io.read_file('sf.jpg'), 3)\n",
    "img_letter_box = tf.image.resize_with_pad(img, 608, 608)\n",
    "img_normalized = img_letter_box / 255.0\n",
    "imgs = img_normalized[tf.newaxis, ...]"
   ]
  },
  {
   "cell_type": "code",
   "execution_count": 7,
   "metadata": {},
   "outputs": [
    {
     "ename": "_InactiveRpcError",
     "evalue": "<_InactiveRpcError of RPC that terminated with:\n\tstatus = StatusCode.UNKNOWN\n\tdetails = \"2 root error(s) found.\n  (0) Unknown: Failed to get convolution algorithm. This is probably because cuDNN failed to initialize, so try looking to see if a warning log message was printed above.\n\t [[{{node StatefulPartitionedCall/yolov3/functional_1/conv2d_68/Conv2D}}]]\n\t [[PartitionedCall/_761]]\n  (1) Unknown: Failed to get convolution algorithm. This is probably because cuDNN failed to initialize, so try looking to see if a warning log message was printed above.\n\t [[{{node StatefulPartitionedCall/yolov3/functional_1/conv2d_68/Conv2D}}]]\n\t [[PartitionedCall/PartitionedCall/TRTEngineOp_1_1]]\n0 successful operations.\n0 derived errors ignored.\"\n\tdebug_error_string = \"{\"created\":\"@1609344904.950617009\",\"description\":\"Error received from peer unix:/tf_servingd/tf_servingd.sock\",\"file\":\"src/core/lib/surface/call.cc\",\"file_line\":1061,\"grpc_message\":\"2 root error(s) found.\\n  (0) Unknown: Failed to get convolution algorithm. This is probably because cuDNN failed to initialize, so try looking to see if a warning log message was printed above.\\n\\t [[{{node StatefulPartitionedCall/yolov3/functional_1/conv2d_68/Conv2D}}]]\\n\\t [[PartitionedCall/_761]]\\n  (1) Unknown: Failed to get convolution algorithm. This is probably because cuDNN failed to initialize, so try looking to see if a warning log message was printed above.\\n\\t [[{{node StatefulPartitionedCall/yolov3/functional_1/conv2d_68/Conv2D}}]]\\n\\t [[PartitionedCall/PartitionedCall/TRTEngineOp_1_1]]\\n0 successful operations.\\n0 derived errors ignored.\",\"grpc_status\":2}\"\n>",
     "output_type": "error",
     "traceback": [
      "\u001b[0;31m---------------------------------------------------------------------------\u001b[0m",
      "\u001b[0;31m_InactiveRpcError\u001b[0m                         Traceback (most recent call last)",
      "\u001b[0;32m<ipython-input-7-06257eb545cb>\u001b[0m in \u001b[0;36m<module>\u001b[0;34m\u001b[0m\n\u001b[1;32m      3\u001b[0m \u001b[0mrequest\u001b[0m\u001b[0;34m.\u001b[0m\u001b[0mmodel_spec\u001b[0m\u001b[0;34m.\u001b[0m\u001b[0msignature_name\u001b[0m \u001b[0;34m=\u001b[0m \u001b[0;34m'serving_default'\u001b[0m\u001b[0;34m\u001b[0m\u001b[0;34m\u001b[0m\u001b[0m\n\u001b[1;32m      4\u001b[0m \u001b[0mrequest\u001b[0m\u001b[0;34m.\u001b[0m\u001b[0minputs\u001b[0m\u001b[0;34m[\u001b[0m\u001b[0;34m\"imgs\"\u001b[0m\u001b[0;34m]\u001b[0m\u001b[0;34m.\u001b[0m\u001b[0mCopyFrom\u001b[0m\u001b[0;34m(\u001b[0m\u001b[0mtf\u001b[0m\u001b[0;34m.\u001b[0m\u001b[0mmake_tensor_proto\u001b[0m\u001b[0;34m(\u001b[0m\u001b[0mimgs\u001b[0m\u001b[0;34m)\u001b[0m\u001b[0;34m)\u001b[0m\u001b[0;34m\u001b[0m\u001b[0;34m\u001b[0m\u001b[0m\n\u001b[0;32m----> 5\u001b[0;31m \u001b[0mresponse\u001b[0m \u001b[0;34m=\u001b[0m \u001b[0mstub\u001b[0m\u001b[0;34m.\u001b[0m\u001b[0mPredict\u001b[0m\u001b[0;34m(\u001b[0m\u001b[0mrequest\u001b[0m\u001b[0;34m,\u001b[0m \u001b[0;36m1000\u001b[0m\u001b[0;34m)\u001b[0m\u001b[0;34m\u001b[0m\u001b[0;34m\u001b[0m\u001b[0m\n\u001b[0m",
      "\u001b[0;32m/usr/local/lib/python3.8/site-packages/grpc/_channel.py\u001b[0m in \u001b[0;36m__call__\u001b[0;34m(self, request, timeout, metadata, credentials, wait_for_ready, compression)\u001b[0m\n\u001b[1;32m    824\u001b[0m         state, call, = self._blocking(request, timeout, metadata, credentials,\n\u001b[1;32m    825\u001b[0m                                       wait_for_ready, compression)\n\u001b[0;32m--> 826\u001b[0;31m         \u001b[0;32mreturn\u001b[0m \u001b[0m_end_unary_response_blocking\u001b[0m\u001b[0;34m(\u001b[0m\u001b[0mstate\u001b[0m\u001b[0;34m,\u001b[0m \u001b[0mcall\u001b[0m\u001b[0;34m,\u001b[0m \u001b[0;32mFalse\u001b[0m\u001b[0;34m,\u001b[0m \u001b[0;32mNone\u001b[0m\u001b[0;34m)\u001b[0m\u001b[0;34m\u001b[0m\u001b[0;34m\u001b[0m\u001b[0m\n\u001b[0m\u001b[1;32m    827\u001b[0m \u001b[0;34m\u001b[0m\u001b[0m\n\u001b[1;32m    828\u001b[0m     def with_call(self,\n",
      "\u001b[0;32m/usr/local/lib/python3.8/site-packages/grpc/_channel.py\u001b[0m in \u001b[0;36m_end_unary_response_blocking\u001b[0;34m(state, call, with_call, deadline)\u001b[0m\n\u001b[1;32m    727\u001b[0m             \u001b[0;32mreturn\u001b[0m \u001b[0mstate\u001b[0m\u001b[0;34m.\u001b[0m\u001b[0mresponse\u001b[0m\u001b[0;34m\u001b[0m\u001b[0;34m\u001b[0m\u001b[0m\n\u001b[1;32m    728\u001b[0m     \u001b[0;32melse\u001b[0m\u001b[0;34m:\u001b[0m\u001b[0;34m\u001b[0m\u001b[0;34m\u001b[0m\u001b[0m\n\u001b[0;32m--> 729\u001b[0;31m         \u001b[0;32mraise\u001b[0m \u001b[0m_InactiveRpcError\u001b[0m\u001b[0;34m(\u001b[0m\u001b[0mstate\u001b[0m\u001b[0;34m)\u001b[0m\u001b[0;34m\u001b[0m\u001b[0;34m\u001b[0m\u001b[0m\n\u001b[0m\u001b[1;32m    730\u001b[0m \u001b[0;34m\u001b[0m\u001b[0m\n\u001b[1;32m    731\u001b[0m \u001b[0;34m\u001b[0m\u001b[0m\n",
      "\u001b[0;31m_InactiveRpcError\u001b[0m: <_InactiveRpcError of RPC that terminated with:\n\tstatus = StatusCode.UNKNOWN\n\tdetails = \"2 root error(s) found.\n  (0) Unknown: Failed to get convolution algorithm. This is probably because cuDNN failed to initialize, so try looking to see if a warning log message was printed above.\n\t [[{{node StatefulPartitionedCall/yolov3/functional_1/conv2d_68/Conv2D}}]]\n\t [[PartitionedCall/_761]]\n  (1) Unknown: Failed to get convolution algorithm. This is probably because cuDNN failed to initialize, so try looking to see if a warning log message was printed above.\n\t [[{{node StatefulPartitionedCall/yolov3/functional_1/conv2d_68/Conv2D}}]]\n\t [[PartitionedCall/PartitionedCall/TRTEngineOp_1_1]]\n0 successful operations.\n0 derived errors ignored.\"\n\tdebug_error_string = \"{\"created\":\"@1609344904.950617009\",\"description\":\"Error received from peer unix:/tf_servingd/tf_servingd.sock\",\"file\":\"src/core/lib/surface/call.cc\",\"file_line\":1061,\"grpc_message\":\"2 root error(s) found.\\n  (0) Unknown: Failed to get convolution algorithm. This is probably because cuDNN failed to initialize, so try looking to see if a warning log message was printed above.\\n\\t [[{{node StatefulPartitionedCall/yolov3/functional_1/conv2d_68/Conv2D}}]]\\n\\t [[PartitionedCall/_761]]\\n  (1) Unknown: Failed to get convolution algorithm. This is probably because cuDNN failed to initialize, so try looking to see if a warning log message was printed above.\\n\\t [[{{node StatefulPartitionedCall/yolov3/functional_1/conv2d_68/Conv2D}}]]\\n\\t [[PartitionedCall/PartitionedCall/TRTEngineOp_1_1]]\\n0 successful operations.\\n0 derived errors ignored.\",\"grpc_status\":2}\"\n>"
     ]
    }
   ],
   "source": [
    "request = predict_pb2.PredictRequest()\n",
    "request.model_spec.name = 'yolov3'\n",
    "request.model_spec.signature_name = 'serving_default'\n",
    "request.inputs[\"imgs\"].CopyFrom(tf.make_tensor_proto(imgs))\n",
    "response = stub.Predict(request, 1000)"
   ]
  },
  {
   "cell_type": "code",
   "execution_count": null,
   "metadata": {},
   "outputs": [],
   "source": []
  }
 ],
 "metadata": {
  "kernelspec": {
   "display_name": "Python 3",
   "language": "python",
   "name": "python3"
  },
  "language_info": {
   "codemirror_mode": {
    "name": "ipython",
    "version": 3
   },
   "file_extension": ".py",
   "mimetype": "text/x-python",
   "name": "python",
   "nbconvert_exporter": "python",
   "pygments_lexer": "ipython3",
   "version": "3.8.7"
  }
 },
 "nbformat": 4,
 "nbformat_minor": 4
}
