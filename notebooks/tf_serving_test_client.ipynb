{
 "cells": [
  {
   "cell_type": "code",
   "execution_count": 1,
   "metadata": {},
   "outputs": [],
   "source": [
    "import grpc\n",
    "import tensorflow as tf\n",
    "\n",
    "from tensorflow_serving.apis import predict_pb2\n",
    "from tensorflow_serving.apis import prediction_service_pb2_grpc"
   ]
  },
  {
   "cell_type": "code",
   "execution_count": 17,
   "metadata": {},
   "outputs": [
    {
     "name": "stdout",
     "output_type": "stream",
     "text": [
      "/tf_servingd/tf_servingd.sock\r\n"
     ]
    }
   ],
   "source": [
    "!ls /tf_servingd/tf_servingd.sock"
   ]
  },
  {
   "cell_type": "code",
   "execution_count": 8,
   "metadata": {},
   "outputs": [],
   "source": [
    "x = tf.random.uniform((10, 224, 224, 3))"
   ]
  },
  {
   "cell_type": "code",
   "execution_count": 15,
   "metadata": {},
   "outputs": [],
   "source": [
    "channel = grpc.insecure_channel('unix:///tf_servingd/tf_servingd.sock')\n",
    "stub = prediction_service_pb2_grpc.PredictionServiceStub(channel)\n",
    "\n",
    "request = predict_pb2.PredictRequest()\n",
    "request.model_spec.name = 'mobilenetv2_test1'\n",
    "request.model_spec.signature_name = 'serving_default'\n",
    "request.inputs[\"imgs\"].CopyFrom(tf.make_tensor_proto(x))\n",
    "response = stub.Predict(request, 100)"
   ]
  },
  {
   "cell_type": "code",
   "execution_count": 16,
   "metadata": {},
   "outputs": [
    {
     "data": {
      "text/plain": [
       "array([[7.56978989e-06, 1.21593475e-05, 9.08374786e-05, ...,\n",
       "        4.82797623e-06, 2.98023224e-06, 1.23620033e-04],\n",
       "       [1.25765800e-05, 1.66893005e-05, 1.28030777e-04, ...,\n",
       "        1.15633011e-05, 3.21865082e-06, 1.40070915e-04],\n",
       "       [8.76188278e-06, 2.37822533e-05, 1.27673149e-04, ...,\n",
       "        6.25848770e-06, 3.99351120e-06, 2.81095505e-04],\n",
       "       ...,\n",
       "       [1.16825104e-05, 1.45435333e-05, 9.62615013e-05, ...,\n",
       "        6.31809235e-06, 3.93390656e-06, 1.78098679e-04],\n",
       "       [1.41859055e-05, 1.57952309e-05, 9.43541527e-05, ...,\n",
       "        7.39097595e-06, 2.50339508e-06, 1.60455704e-04],\n",
       "       [1.15036964e-05, 1.78217888e-05, 9.50694084e-05, ...,\n",
       "        7.68899918e-06, 4.58955765e-06, 1.85132027e-04]], dtype=float32)"
      ]
     },
     "execution_count": 16,
     "metadata": {},
     "output_type": "execute_result"
    }
   ],
   "source": [
    "tf.make_ndarray(response.outputs['output_0'])"
   ]
  },
  {
   "cell_type": "code",
   "execution_count": 10,
   "metadata": {},
   "outputs": [
    {
     "name": "stdout",
     "output_type": "stream",
     "text": [
      "22.4 ms ± 875 µs per loop (mean ± std. dev. of 7 runs, 10 loops each)\n"
     ]
    }
   ],
   "source": [
    "%%timeit\n",
    "request = predict_pb2.PredictRequest()\n",
    "request.model_spec.name = 'mobilenetv2_test1'\n",
    "request.model_spec.signature_name = 'serving_default'\n",
    "request.inputs[\"imgs\"].CopyFrom(tf.make_tensor_proto(x))\n",
    "response = stub.Predict(request, 100)\n",
    "\n",
    "pred = tf.make_ndarray(response.outputs['output_0'])"
   ]
  },
  {
   "cell_type": "code",
   "execution_count": null,
   "metadata": {},
   "outputs": [],
   "source": []
  }
 ],
 "metadata": {
  "kernelspec": {
   "display_name": "Python 3",
   "language": "python",
   "name": "python3"
  },
  "language_info": {
   "codemirror_mode": {
    "name": "ipython",
    "version": 3
   },
   "file_extension": ".py",
   "mimetype": "text/x-python",
   "name": "python",
   "nbconvert_exporter": "python",
   "pygments_lexer": "ipython3",
   "version": "3.8.7"
  }
 },
 "nbformat": 4,
 "nbformat_minor": 4
}
